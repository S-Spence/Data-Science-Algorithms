{
 "cells": [
  {
   "cell_type": "code",
   "execution_count": 1,
   "id": "64fb0be0-d7d3-4f87-9071-1275a1b941ef",
   "metadata": {},
   "outputs": [],
   "source": [
    "import pandas as pd\n",
    "import unittest\n",
    "import normalization_and_standardization as norm"
   ]
  },
  {
   "cell_type": "code",
   "execution_count": 2,
   "id": "8d8b49f6-79e1-4ad2-a433-3705712f8844",
   "metadata": {},
   "outputs": [
    {
     "name": "stderr",
     "output_type": "stream",
     "text": [
      "..\n",
      "----------------------------------------------------------------------\n",
      "Ran 2 tests in 0.005s\n",
      "\n",
      "OK\n"
     ]
    },
    {
     "data": {
      "text/plain": [
       "<unittest.main.TestProgram at 0x1122513c0>"
      ]
     },
     "execution_count": 2,
     "metadata": {},
     "output_type": "execute_result"
    }
   ],
   "source": [
    "# Test normalization and standardization\n",
    "class TestMethodsRescale(unittest.TestCase):\n",
    "    def setUp(self):\n",
    "        self.stand_test = pd.DataFrame([0, 5, -2, 4, 6], [1, -5, 6, 3, 100])\n",
    "        self.norm_test = pd.DataFrame([0, 5, -2, 4, 6], [1, -5, 6, 3, 10])\n",
    "\n",
    "    def test_standardization(self):\n",
    "        standardized = norm.standardize(self.stand_test)\n",
    "\n",
    "        mean = round(standardized.mean()[0], 2)\n",
    "        std = round(standardized.std()[0], 2)\n",
    "\n",
    "        self.assertTrue(mean == 0.00)\n",
    "        self.assertTrue(std == 1.00)\n",
    "\n",
    "\n",
    "    def test_normalization(self):\n",
    "        normalized = norm.normalize(self.norm_test)\n",
    "        \n",
    "        norm_vals = list(normalized)\n",
    "        \n",
    "        for val in norm_vals:\n",
    "            self.assertTrue(val in [-1, 0, 1])\n",
    "\n",
    "# Run tests\n",
    "unittest.main(argv=[''], exit=False)"
   ]
  }
 ],
 "metadata": {
  "kernelspec": {
   "display_name": "Python 3 (ipykernel)",
   "language": "python",
   "name": "python3"
  },
  "language_info": {
   "codemirror_mode": {
    "name": "ipython",
    "version": 3
   },
   "file_extension": ".py",
   "mimetype": "text/x-python",
   "name": "python",
   "nbconvert_exporter": "python",
   "pygments_lexer": "ipython3",
   "version": "3.10.8"
  }
 },
 "nbformat": 4,
 "nbformat_minor": 5
}
