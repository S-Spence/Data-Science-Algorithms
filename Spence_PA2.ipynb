{
 "cells": [
  {
   "cell_type": "markdown",
   "id": "34c1c1c0-6179-4040-a18a-5561c34719fa",
   "metadata": {
    "id": "34c1c1c0-6179-4040-a18a-5561c34719fa"
   },
   "source": [
    "# Sarah Spence -PA2"
   ]
  },
  {
   "cell_type": "code",
   "execution_count": 1,
   "id": "5859b59f-9838-47c6-8434-22ee834573fd",
   "metadata": {
    "id": "5859b59f-9838-47c6-8434-22ee834573fd"
   },
   "outputs": [],
   "source": [
    "# imports\n",
    "import numpy as np\n",
    "import pandas as pd\n",
    "import math\n",
    "import matplotlib.pyplot as plt\n",
    "\n",
    "# Import data science algorithms and helpers \n",
    "import common_helpers as common\n",
    "from data_processing import FDR_feature_ranking as FDR\n",
    "from data_processing import normalization_and_standardization as norm\n",
    "from machine_learning import bayes_classifier as bayes\n",
    "from machine_learning import bayes_classifier_model as bayes_model\n",
    "from machine_learning import expectation_maximization as EM\n",
    "from machine_learning import parzen_window as parzen\n",
    "from machine_learning import k_fold_validation as k_fold"
   ]
  },
  {
   "cell_type": "code",
   "execution_count": 4,
   "id": "793a4cfa-7c22-4d34-9210-da38ea5667ea",
   "metadata": {
    "id": "793a4cfa-7c22-4d34-9210-da38ea5667ea"
   },
   "outputs": [],
   "source": [
    "generated_num_features = pd.read_csv(\"data_files/trainFeatures42k.csv\", header=None)"
   ]
  },
  {
   "cell_type": "markdown",
   "id": "09969228-4603-4993-9e76-3a0891c4c252",
   "metadata": {
    "id": "09969228-4603-4993-9e76-3a0891c4c252"
   },
   "source": [
    "## Problem 1 - Computational Statistics \n",
    "30 Points Total\n",
    "\n",
    "### 1. (15 points) Develop and implement the Expectation Maximization method for a generic number of clusters, features and observations."
   ]
  },
  {
   "cell_type": "markdown",
   "id": "201cfd82-916a-499d-838f-f34e37ff5b04",
   "metadata": {
    "id": "201cfd82-916a-499d-838f-f34e37ff5b04"
   },
   "source": [
    "Pseudo-code:\n",
    "\n",
    "def SIMPLE_EXPECTATION_MAXIMIZATION(x, k, prob, m, std, threshold):\n",
    "\n",
    "    cols <- num cols in x\n",
    "    rows <- num rows in x\n",
    "\n",
    "    itializeRows <- create a matrix of ones of size (rows, 1)\n",
    "    initializeCols <- create a matrix of ones of size (1, cols)\n",
    "\n",
    "    iterations <- 0\n",
    "\n",
    "    while True:\n",
    "\n",
    "        prev_mean <- make a copy of m\n",
    "        prev_std <- make a copy of std\n",
    "        prev_prob <- make a copy of prob\n",
    "\n",
    "        g <- empty array\n",
    "        progKg <- empty array\n",
    "\n",
    "        # Expectation step\n",
    "        for i in range 0:k:\n",
    "            val <- get the ith column of the mean matrix and transpose \n",
    "            calc_1 <- multiply val by a matrix of ones of size (1, cols)\n",
    "            calc_2 <- subtract calc_1 from x\n",
    "            calc_3 <- square all elements in calc 2\n",
    "            calc_4 <- run calculcation np.exp(np.divide(np.divide(-1 * np.sum(calc_3, axis = 0), np.power(std[i], 2)), 2))\n",
    "            calc_5 <- perform calculation np.power(math.sqrt(2 * math.pi)* std[cluster], rows)\n",
    "            calc_e_step <- divide clac_4 by calc_5\n",
    "            g <- append calc_e_step to g\n",
    "            probKg <- append prob[:, i] * g[i] to probKg\n",
    "\n",
    "        g <- convert g to numpy array\n",
    "        probKg <- convert probKg to numpy array\n",
    "\n",
    "        calc <- take the sum of all rows of probKg\n",
    "        prob_ikn <- divide probKg by the product of reshaped_calc and a k X 1 matrix of ones\n",
    "\n",
    "        # Maximization Step\n",
    "\n",
    "        sum_prob_ikn <- sum of all cols in prob_ikn\n",
    "        for i in range 0:k:\n",
    "            calc_1 <- matrix multiplication on initializeRows and prob_ikn[i, :]\n",
    "            calc_2 <- multiply calc_1 and x\n",
    "            calc_3 <- divide calc_2 by sum_prob_ikn[i]\n",
    "            m[:, i] <- the sum of all cols in calc 3\n",
    "\n",
    "            calc_1 <- multiply m[:, i] by initializeCols\n",
    "            calc_2 <- square all elements in x - calc_2 \n",
    "            calc_3 <- multiply calc_2 and prob_ikn[i, :] then take the sum across all rows\n",
    "            calc_4 <- divide calc_3 by sum_prob_ikn[i]\n",
    "            calc_5 <- divide calc_4 by rows\n",
    "            std[i] <- take the square root of calc_5\n",
    "        \n",
    "        prob <- divide sum_prob_ikn by the sum of sum_prob_ikn\n",
    "        \n",
    "        # Determine convergence\n",
    "        mean_delta = max(np.sqrt(np.sum(np.power(m - prev_mean, 2), axis=0)))\n",
    "        s_mean = np.mean(np.sqrt(np.sum(np.power(m, 2), axis=0)))\n",
    "        conv_mean = mean_delta <= (s_mean * threshold)\n",
    "\n",
    "        std_delta = math.sqrt(np.sum(np.power(std - prev_std, 2), axis=0))\n",
    "        s_std = np.mean(np.sqrt(np.sum(np.power(std, 2))))\n",
    "        conv_std = std_delta <= (s_std * threshold)\n",
    "\n",
    "        prob_delta = max(np.sqrt(np.sum(np.power(prob - prev_prob, 2), axis=0)))\n",
    "        s_prob = np.mean(math.sqrt(np.sum(np.power(prob, 2))))\n",
    "        conv_prob = prob_delta <= (s_prob * threshold)\n",
    "\n",
    "\n",
    "        # If the mean, std, and probabiity have converged, break\n",
    "        if conv_mean and conv_std  and conv_prob:\n",
    "            break\n",
    "\n",
    "    return prob, m, std, prob_ikn, iterations\n",
    "\n",
    "#### See the code for this algorithm in the machine_learning/expectation_maximization.py file"
   ]
  },
  {
   "cell_type": "markdown",
   "id": "qBROyFIYY6Oy",
   "metadata": {
    "id": "qBROyFIYY6Oy"
   },
   "source": [
    "### 2. (15 points total) Apply your implementation using the features generated from HW 2. \n",
    "Identify and use the top two ranked features to separate three numerical values, e.g., 0, 1, 4. This will require that k = 3. Use 100 observations for each of the three numbers."
   ]
  },
  {
   "cell_type": "code",
   "execution_count": 5,
   "id": "32471ee5-0eb8-4e03-85cd-90f24435e488",
   "metadata": {
    "colab": {
     "base_uri": "https://localhost:8080/",
     "height": 266
    },
    "id": "32471ee5-0eb8-4e03-85cd-90f24435e488",
    "outputId": "b6a8c821-ae65-46c3-8f09-8aef5eda7fbb"
   },
   "outputs": [
    {
     "data": {
      "text/html": [
       "<style type=\"text/css\">\n",
       "</style>\n",
       "<table id=\"T_23fd3\">\n",
       "  <caption>FDR Feature Ranking Multiclass (One vs. Rest)</caption>\n",
       "  <thead>\n",
       "    <tr>\n",
       "      <th class=\"blank level0\" >&nbsp;</th>\n",
       "      <th id=\"T_23fd3_level0_col0\" class=\"col_heading level0 col0\" >class combinations</th>\n",
       "      <th id=\"T_23fd3_level0_col1\" class=\"col_heading level0 col1\" >0</th>\n",
       "      <th id=\"T_23fd3_level0_col2\" class=\"col_heading level0 col2\" >1</th>\n",
       "      <th id=\"T_23fd3_level0_col3\" class=\"col_heading level0 col3\" >2</th>\n",
       "      <th id=\"T_23fd3_level0_col4\" class=\"col_heading level0 col4\" >3</th>\n",
       "      <th id=\"T_23fd3_level0_col5\" class=\"col_heading level0 col5\" >4</th>\n",
       "      <th id=\"T_23fd3_level0_col6\" class=\"col_heading level0 col6\" >5</th>\n",
       "      <th id=\"T_23fd3_level0_col7\" class=\"col_heading level0 col7\" >6</th>\n",
       "      <th id=\"T_23fd3_level0_col8\" class=\"col_heading level0 col8\" >7</th>\n",
       "      <th id=\"T_23fd3_level0_col9\" class=\"col_heading level0 col9\" >8</th>\n",
       "      <th id=\"T_23fd3_level0_col10\" class=\"col_heading level0 col10\" >9</th>\n",
       "      <th id=\"T_23fd3_level0_col11\" class=\"col_heading level0 col11\" >10</th>\n",
       "      <th id=\"T_23fd3_level0_col12\" class=\"col_heading level0 col12\" >11</th>\n",
       "      <th id=\"T_23fd3_level0_col13\" class=\"col_heading level0 col13\" >12</th>\n",
       "      <th id=\"T_23fd3_level0_col14\" class=\"col_heading level0 col14\" >13</th>\n",
       "      <th id=\"T_23fd3_level0_col15\" class=\"col_heading level0 col15\" >14</th>\n",
       "      <th id=\"T_23fd3_level0_col16\" class=\"col_heading level0 col16\" >15</th>\n",
       "      <th id=\"T_23fd3_level0_col17\" class=\"col_heading level0 col17\" >16</th>\n",
       "      <th id=\"T_23fd3_level0_col18\" class=\"col_heading level0 col18\" >17</th>\n",
       "      <th id=\"T_23fd3_level0_col19\" class=\"col_heading level0 col19\" >18</th>\n",
       "      <th id=\"T_23fd3_level0_col20\" class=\"col_heading level0 col20\" >19</th>\n",
       "      <th id=\"T_23fd3_level0_col21\" class=\"col_heading level0 col21\" >20</th>\n",
       "      <th id=\"T_23fd3_level0_col22\" class=\"col_heading level0 col22\" >21</th>\n",
       "      <th id=\"T_23fd3_level0_col23\" class=\"col_heading level0 col23\" >22</th>\n",
       "      <th id=\"T_23fd3_level0_col24\" class=\"col_heading level0 col24\" >23</th>\n",
       "      <th id=\"T_23fd3_level0_col25\" class=\"col_heading level0 col25\" >24</th>\n",
       "      <th id=\"T_23fd3_level0_col26\" class=\"col_heading level0 col26\" >25</th>\n",
       "      <th id=\"T_23fd3_level0_col27\" class=\"col_heading level0 col27\" >26</th>\n",
       "      <th id=\"T_23fd3_level0_col28\" class=\"col_heading level0 col28\" >27</th>\n",
       "      <th id=\"T_23fd3_level0_col29\" class=\"col_heading level0 col29\" >28</th>\n",
       "      <th id=\"T_23fd3_level0_col30\" class=\"col_heading level0 col30\" >29</th>\n",
       "      <th id=\"T_23fd3_level0_col31\" class=\"col_heading level0 col31\" >30</th>\n",
       "      <th id=\"T_23fd3_level0_col32\" class=\"col_heading level0 col32\" >31</th>\n",
       "      <th id=\"T_23fd3_level0_col33\" class=\"col_heading level0 col33\" >32</th>\n",
       "      <th id=\"T_23fd3_level0_col34\" class=\"col_heading level0 col34\" >33</th>\n",
       "      <th id=\"T_23fd3_level0_col35\" class=\"col_heading level0 col35\" >34</th>\n",
       "      <th id=\"T_23fd3_level0_col36\" class=\"col_heading level0 col36\" >35</th>\n",
       "      <th id=\"T_23fd3_level0_col37\" class=\"col_heading level0 col37\" >36</th>\n",
       "      <th id=\"T_23fd3_level0_col38\" class=\"col_heading level0 col38\" >37</th>\n",
       "      <th id=\"T_23fd3_level0_col39\" class=\"col_heading level0 col39\" >38</th>\n",
       "      <th id=\"T_23fd3_level0_col40\" class=\"col_heading level0 col40\" >39</th>\n",
       "      <th id=\"T_23fd3_level0_col41\" class=\"col_heading level0 col41\" >40</th>\n",
       "      <th id=\"T_23fd3_level0_col42\" class=\"col_heading level0 col42\" >41</th>\n",
       "      <th id=\"T_23fd3_level0_col43\" class=\"col_heading level0 col43\" >42</th>\n",
       "      <th id=\"T_23fd3_level0_col44\" class=\"col_heading level0 col44\" >43</th>\n",
       "      <th id=\"T_23fd3_level0_col45\" class=\"col_heading level0 col45\" >44</th>\n",
       "      <th id=\"T_23fd3_level0_col46\" class=\"col_heading level0 col46\" >45</th>\n",
       "      <th id=\"T_23fd3_level0_col47\" class=\"col_heading level0 col47\" >46</th>\n",
       "      <th id=\"T_23fd3_level0_col48\" class=\"col_heading level0 col48\" >47</th>\n",
       "      <th id=\"T_23fd3_level0_col49\" class=\"col_heading level0 col49\" >48</th>\n",
       "      <th id=\"T_23fd3_level0_col50\" class=\"col_heading level0 col50\" >49</th>\n",
       "      <th id=\"T_23fd3_level0_col51\" class=\"col_heading level0 col51\" >50</th>\n",
       "      <th id=\"T_23fd3_level0_col52\" class=\"col_heading level0 col52\" >51</th>\n",
       "      <th id=\"T_23fd3_level0_col53\" class=\"col_heading level0 col53\" >52</th>\n",
       "      <th id=\"T_23fd3_level0_col54\" class=\"col_heading level0 col54\" >53</th>\n",
       "      <th id=\"T_23fd3_level0_col55\" class=\"col_heading level0 col55\" >54</th>\n",
       "      <th id=\"T_23fd3_level0_col56\" class=\"col_heading level0 col56\" >55</th>\n",
       "      <th id=\"T_23fd3_level0_col57\" class=\"col_heading level0 col57\" >56</th>\n",
       "      <th id=\"T_23fd3_level0_col58\" class=\"col_heading level0 col58\" >57</th>\n",
       "      <th id=\"T_23fd3_level0_col59\" class=\"col_heading level0 col59\" >58</th>\n",
       "      <th id=\"T_23fd3_level0_col60\" class=\"col_heading level0 col60\" >59</th>\n",
       "    </tr>\n",
       "  </thead>\n",
       "  <tbody>\n",
       "    <tr>\n",
       "      <th id=\"T_23fd3_level0_row0\" class=\"row_heading level0 row0\" >0</th>\n",
       "      <td id=\"T_23fd3_row0_col0\" class=\"data row0 col0\" >0 vs. rest</td>\n",
       "      <td id=\"T_23fd3_row0_col1\" class=\"data row0 col1\" >1.325256</td>\n",
       "      <td id=\"T_23fd3_row0_col2\" class=\"data row0 col2\" >0.255820</td>\n",
       "      <td id=\"T_23fd3_row0_col3\" class=\"data row0 col3\" >0.128279</td>\n",
       "      <td id=\"T_23fd3_row0_col4\" class=\"data row0 col4\" >0.002017</td>\n",
       "      <td id=\"T_23fd3_row0_col5\" class=\"data row0 col5\" >0.970632</td>\n",
       "      <td id=\"T_23fd3_row0_col6\" class=\"data row0 col6\" >0.004775</td>\n",
       "      <td id=\"T_23fd3_row0_col7\" class=\"data row0 col7\" >0.234047</td>\n",
       "      <td id=\"T_23fd3_row0_col8\" class=\"data row0 col8\" >0.004373</td>\n",
       "      <td id=\"T_23fd3_row0_col9\" class=\"data row0 col9\" >0.008919</td>\n",
       "      <td id=\"T_23fd3_row0_col10\" class=\"data row0 col10\" >0.058024</td>\n",
       "      <td id=\"T_23fd3_row0_col11\" class=\"data row0 col11\" >0.038586</td>\n",
       "      <td id=\"T_23fd3_row0_col12\" class=\"data row0 col12\" >0.000696</td>\n",
       "      <td id=\"T_23fd3_row0_col13\" class=\"data row0 col13\" >0.038735</td>\n",
       "      <td id=\"T_23fd3_row0_col14\" class=\"data row0 col14\" >0.010703</td>\n",
       "      <td id=\"T_23fd3_row0_col15\" class=\"data row0 col15\" >0.006912</td>\n",
       "      <td id=\"T_23fd3_row0_col16\" class=\"data row0 col16\" >0.003460</td>\n",
       "      <td id=\"T_23fd3_row0_col17\" class=\"data row0 col17\" >0.006619</td>\n",
       "      <td id=\"T_23fd3_row0_col18\" class=\"data row0 col18\" >0.002539</td>\n",
       "      <td id=\"T_23fd3_row0_col19\" class=\"data row0 col19\" >0.008286</td>\n",
       "      <td id=\"T_23fd3_row0_col20\" class=\"data row0 col20\" >0.031836</td>\n",
       "      <td id=\"T_23fd3_row0_col21\" class=\"data row0 col21\" >2.353779</td>\n",
       "      <td id=\"T_23fd3_row0_col22\" class=\"data row0 col22\" >0.506806</td>\n",
       "      <td id=\"T_23fd3_row0_col23\" class=\"data row0 col23\" >0.128745</td>\n",
       "      <td id=\"T_23fd3_row0_col24\" class=\"data row0 col24\" >0.166735</td>\n",
       "      <td id=\"T_23fd3_row0_col25\" class=\"data row0 col25\" >0.004132</td>\n",
       "      <td id=\"T_23fd3_row0_col26\" class=\"data row0 col26\" >0.000431</td>\n",
       "      <td id=\"T_23fd3_row0_col27\" class=\"data row0 col27\" >0.131638</td>\n",
       "      <td id=\"T_23fd3_row0_col28\" class=\"data row0 col28\" >0.075195</td>\n",
       "      <td id=\"T_23fd3_row0_col29\" class=\"data row0 col29\" >0.023656</td>\n",
       "      <td id=\"T_23fd3_row0_col30\" class=\"data row0 col30\" >0.064356</td>\n",
       "      <td id=\"T_23fd3_row0_col31\" class=\"data row0 col31\" >0.024790</td>\n",
       "      <td id=\"T_23fd3_row0_col32\" class=\"data row0 col32\" >0.024631</td>\n",
       "      <td id=\"T_23fd3_row0_col33\" class=\"data row0 col33\" >0.006895</td>\n",
       "      <td id=\"T_23fd3_row0_col34\" class=\"data row0 col34\" >0.070535</td>\n",
       "      <td id=\"T_23fd3_row0_col35\" class=\"data row0 col35\" >0.000662</td>\n",
       "      <td id=\"T_23fd3_row0_col36\" class=\"data row0 col36\" >0.023829</td>\n",
       "      <td id=\"T_23fd3_row0_col37\" class=\"data row0 col37\" >0.000359</td>\n",
       "      <td id=\"T_23fd3_row0_col38\" class=\"data row0 col38\" >0.009664</td>\n",
       "      <td id=\"T_23fd3_row0_col39\" class=\"data row0 col39\" >0.004764</td>\n",
       "      <td id=\"T_23fd3_row0_col40\" class=\"data row0 col40\" >0.083516</td>\n",
       "      <td id=\"T_23fd3_row0_col41\" class=\"data row0 col41\" >0.462854</td>\n",
       "      <td id=\"T_23fd3_row0_col42\" class=\"data row0 col42\" >0.000274</td>\n",
       "      <td id=\"T_23fd3_row0_col43\" class=\"data row0 col43\" >1.226648</td>\n",
       "      <td id=\"T_23fd3_row0_col44\" class=\"data row0 col44\" >0.086013</td>\n",
       "      <td id=\"T_23fd3_row0_col45\" class=\"data row0 col45\" >0.044070</td>\n",
       "      <td id=\"T_23fd3_row0_col46\" class=\"data row0 col46\" >0.048264</td>\n",
       "      <td id=\"T_23fd3_row0_col47\" class=\"data row0 col47\" >0.251432</td>\n",
       "      <td id=\"T_23fd3_row0_col48\" class=\"data row0 col48\" >0.001831</td>\n",
       "      <td id=\"T_23fd3_row0_col49\" class=\"data row0 col49\" >0.042225</td>\n",
       "      <td id=\"T_23fd3_row0_col50\" class=\"data row0 col50\" >0.015487</td>\n",
       "      <td id=\"T_23fd3_row0_col51\" class=\"data row0 col51\" >0.008370</td>\n",
       "      <td id=\"T_23fd3_row0_col52\" class=\"data row0 col52\" >0.009667</td>\n",
       "      <td id=\"T_23fd3_row0_col53\" class=\"data row0 col53\" >0.028293</td>\n",
       "      <td id=\"T_23fd3_row0_col54\" class=\"data row0 col54\" >0.030895</td>\n",
       "      <td id=\"T_23fd3_row0_col55\" class=\"data row0 col55\" >0.021684</td>\n",
       "      <td id=\"T_23fd3_row0_col56\" class=\"data row0 col56\" >0.019457</td>\n",
       "      <td id=\"T_23fd3_row0_col57\" class=\"data row0 col57\" >0.000509</td>\n",
       "      <td id=\"T_23fd3_row0_col58\" class=\"data row0 col58\" >0.013225</td>\n",
       "      <td id=\"T_23fd3_row0_col59\" class=\"data row0 col59\" >0.031244</td>\n",
       "      <td id=\"T_23fd3_row0_col60\" class=\"data row0 col60\" >0.005341</td>\n",
       "    </tr>\n",
       "    <tr>\n",
       "      <th id=\"T_23fd3_level0_row1\" class=\"row_heading level0 row1\" >1</th>\n",
       "      <td id=\"T_23fd3_row1_col0\" class=\"data row1 col0\" >1 vs. rest</td>\n",
       "      <td id=\"T_23fd3_row1_col1\" class=\"data row1 col1\" >0.129503</td>\n",
       "      <td id=\"T_23fd3_row1_col2\" class=\"data row1 col2\" >0.060734</td>\n",
       "      <td id=\"T_23fd3_row1_col3\" class=\"data row1 col3\" >0.129896</td>\n",
       "      <td id=\"T_23fd3_row1_col4\" class=\"data row1 col4\" >0.021977</td>\n",
       "      <td id=\"T_23fd3_row1_col5\" class=\"data row1 col5\" >0.005897</td>\n",
       "      <td id=\"T_23fd3_row1_col6\" class=\"data row1 col6\" >0.019788</td>\n",
       "      <td id=\"T_23fd3_row1_col7\" class=\"data row1 col7\" >0.153930</td>\n",
       "      <td id=\"T_23fd3_row1_col8\" class=\"data row1 col8\" >0.012081</td>\n",
       "      <td id=\"T_23fd3_row1_col9\" class=\"data row1 col9\" >0.000547</td>\n",
       "      <td id=\"T_23fd3_row1_col10\" class=\"data row1 col10\" >0.000435</td>\n",
       "      <td id=\"T_23fd3_row1_col11\" class=\"data row1 col11\" >0.116606</td>\n",
       "      <td id=\"T_23fd3_row1_col12\" class=\"data row1 col12\" >0.114315</td>\n",
       "      <td id=\"T_23fd3_row1_col13\" class=\"data row1 col13\" >0.164304</td>\n",
       "      <td id=\"T_23fd3_row1_col14\" class=\"data row1 col14\" >0.006533</td>\n",
       "      <td id=\"T_23fd3_row1_col15\" class=\"data row1 col15\" >0.005780</td>\n",
       "      <td id=\"T_23fd3_row1_col16\" class=\"data row1 col16\" >0.068386</td>\n",
       "      <td id=\"T_23fd3_row1_col17\" class=\"data row1 col17\" >0.015697</td>\n",
       "      <td id=\"T_23fd3_row1_col18\" class=\"data row1 col18\" >0.028051</td>\n",
       "      <td id=\"T_23fd3_row1_col19\" class=\"data row1 col19\" >0.042117</td>\n",
       "      <td id=\"T_23fd3_row1_col20\" class=\"data row1 col20\" >0.000810</td>\n",
       "      <td id=\"T_23fd3_row1_col21\" class=\"data row1 col21\" >3.081181</td>\n",
       "      <td id=\"T_23fd3_row1_col22\" class=\"data row1 col22\" >0.996539</td>\n",
       "      <td id=\"T_23fd3_row1_col23\" class=\"data row1 col23\" >0.050958</td>\n",
       "      <td id=\"T_23fd3_row1_col24\" class=\"data row1 col24\" >0.074599</td>\n",
       "      <td id=\"T_23fd3_row1_col25\" class=\"data row1 col25\" >0.024863</td>\n",
       "      <td id=\"T_23fd3_row1_col26\" class=\"data row1 col26\" >0.000018</td>\n",
       "      <td id=\"T_23fd3_row1_col27\" class=\"data row1 col27\" >0.005877</td>\n",
       "      <td id=\"T_23fd3_row1_col28\" class=\"data row1 col28\" >0.006931</td>\n",
       "      <td id=\"T_23fd3_row1_col29\" class=\"data row1 col29\" >0.223421</td>\n",
       "      <td id=\"T_23fd3_row1_col30\" class=\"data row1 col30\" >0.002294</td>\n",
       "      <td id=\"T_23fd3_row1_col31\" class=\"data row1 col31\" >0.295796</td>\n",
       "      <td id=\"T_23fd3_row1_col32\" class=\"data row1 col32\" >0.180545</td>\n",
       "      <td id=\"T_23fd3_row1_col33\" class=\"data row1 col33\" >0.081783</td>\n",
       "      <td id=\"T_23fd3_row1_col34\" class=\"data row1 col34\" >0.000015</td>\n",
       "      <td id=\"T_23fd3_row1_col35\" class=\"data row1 col35\" >0.014543</td>\n",
       "      <td id=\"T_23fd3_row1_col36\" class=\"data row1 col36\" >0.009074</td>\n",
       "      <td id=\"T_23fd3_row1_col37\" class=\"data row1 col37\" >0.010710</td>\n",
       "      <td id=\"T_23fd3_row1_col38\" class=\"data row1 col38\" >0.017408</td>\n",
       "      <td id=\"T_23fd3_row1_col39\" class=\"data row1 col39\" >0.013598</td>\n",
       "      <td id=\"T_23fd3_row1_col40\" class=\"data row1 col40\" >0.007049</td>\n",
       "      <td id=\"T_23fd3_row1_col41\" class=\"data row1 col41\" >0.015896</td>\n",
       "      <td id=\"T_23fd3_row1_col42\" class=\"data row1 col42\" >0.008289</td>\n",
       "      <td id=\"T_23fd3_row1_col43\" class=\"data row1 col43\" >0.038248</td>\n",
       "      <td id=\"T_23fd3_row1_col44\" class=\"data row1 col44\" >0.338424</td>\n",
       "      <td id=\"T_23fd3_row1_col45\" class=\"data row1 col45\" >0.321322</td>\n",
       "      <td id=\"T_23fd3_row1_col46\" class=\"data row1 col46\" >0.593496</td>\n",
       "      <td id=\"T_23fd3_row1_col47\" class=\"data row1 col47\" >0.063258</td>\n",
       "      <td id=\"T_23fd3_row1_col48\" class=\"data row1 col48\" >0.002649</td>\n",
       "      <td id=\"T_23fd3_row1_col49\" class=\"data row1 col49\" >0.041663</td>\n",
       "      <td id=\"T_23fd3_row1_col50\" class=\"data row1 col50\" >0.029045</td>\n",
       "      <td id=\"T_23fd3_row1_col51\" class=\"data row1 col51\" >0.006240</td>\n",
       "      <td id=\"T_23fd3_row1_col52\" class=\"data row1 col52\" >0.076545</td>\n",
       "      <td id=\"T_23fd3_row1_col53\" class=\"data row1 col53\" >0.053101</td>\n",
       "      <td id=\"T_23fd3_row1_col54\" class=\"data row1 col54\" >0.012006</td>\n",
       "      <td id=\"T_23fd3_row1_col55\" class=\"data row1 col55\" >0.001030</td>\n",
       "      <td id=\"T_23fd3_row1_col56\" class=\"data row1 col56\" >0.011069</td>\n",
       "      <td id=\"T_23fd3_row1_col57\" class=\"data row1 col57\" >0.000868</td>\n",
       "      <td id=\"T_23fd3_row1_col58\" class=\"data row1 col58\" >0.044990</td>\n",
       "      <td id=\"T_23fd3_row1_col59\" class=\"data row1 col59\" >0.026074</td>\n",
       "      <td id=\"T_23fd3_row1_col60\" class=\"data row1 col60\" >0.007561</td>\n",
       "    </tr>\n",
       "    <tr>\n",
       "      <th id=\"T_23fd3_level0_row2\" class=\"row_heading level0 row2\" >2</th>\n",
       "      <td id=\"T_23fd3_row2_col0\" class=\"data row2 col0\" >4 vs. rest</td>\n",
       "      <td id=\"T_23fd3_row2_col1\" class=\"data row2 col1\" >0.096326</td>\n",
       "      <td id=\"T_23fd3_row2_col2\" class=\"data row2 col2\" >0.025827</td>\n",
       "      <td id=\"T_23fd3_row2_col3\" class=\"data row2 col3\" >0.317742</td>\n",
       "      <td id=\"T_23fd3_row2_col4\" class=\"data row2 col4\" >0.027625</td>\n",
       "      <td id=\"T_23fd3_row2_col5\" class=\"data row2 col5\" >0.510723</td>\n",
       "      <td id=\"T_23fd3_row2_col6\" class=\"data row2 col6\" >0.014681</td>\n",
       "      <td id=\"T_23fd3_row2_col7\" class=\"data row2 col7\" >0.036768</td>\n",
       "      <td id=\"T_23fd3_row2_col8\" class=\"data row2 col8\" >0.184603</td>\n",
       "      <td id=\"T_23fd3_row2_col9\" class=\"data row2 col9\" >0.007633</td>\n",
       "      <td id=\"T_23fd3_row2_col10\" class=\"data row2 col10\" >0.022759</td>\n",
       "      <td id=\"T_23fd3_row2_col11\" class=\"data row2 col11\" >0.013400</td>\n",
       "      <td id=\"T_23fd3_row2_col12\" class=\"data row2 col12\" >0.081295</td>\n",
       "      <td id=\"T_23fd3_row2_col13\" class=\"data row2 col13\" >0.048384</td>\n",
       "      <td id=\"T_23fd3_row2_col14\" class=\"data row2 col14\" >0.000030</td>\n",
       "      <td id=\"T_23fd3_row2_col15\" class=\"data row2 col15\" >0.008328</td>\n",
       "      <td id=\"T_23fd3_row2_col16\" class=\"data row2 col16\" >0.043175</td>\n",
       "      <td id=\"T_23fd3_row2_col17\" class=\"data row2 col17\" >0.014010</td>\n",
       "      <td id=\"T_23fd3_row2_col18\" class=\"data row2 col18\" >0.000884</td>\n",
       "      <td id=\"T_23fd3_row2_col19\" class=\"data row2 col19\" >0.007851</td>\n",
       "      <td id=\"T_23fd3_row2_col20\" class=\"data row2 col20\" >0.090728</td>\n",
       "      <td id=\"T_23fd3_row2_col21\" class=\"data row2 col21\" >0.199545</td>\n",
       "      <td id=\"T_23fd3_row2_col22\" class=\"data row2 col22\" >0.190943</td>\n",
       "      <td id=\"T_23fd3_row2_col23\" class=\"data row2 col23\" >0.251274</td>\n",
       "      <td id=\"T_23fd3_row2_col24\" class=\"data row2 col24\" >0.014661</td>\n",
       "      <td id=\"T_23fd3_row2_col25\" class=\"data row2 col25\" >0.033112</td>\n",
       "      <td id=\"T_23fd3_row2_col26\" class=\"data row2 col26\" >0.007958</td>\n",
       "      <td id=\"T_23fd3_row2_col27\" class=\"data row2 col27\" >0.002044</td>\n",
       "      <td id=\"T_23fd3_row2_col28\" class=\"data row2 col28\" >0.233451</td>\n",
       "      <td id=\"T_23fd3_row2_col29\" class=\"data row2 col29\" >0.023214</td>\n",
       "      <td id=\"T_23fd3_row2_col30\" class=\"data row2 col30\" >0.035490</td>\n",
       "      <td id=\"T_23fd3_row2_col31\" class=\"data row2 col31\" >0.001012</td>\n",
       "      <td id=\"T_23fd3_row2_col32\" class=\"data row2 col32\" >0.000067</td>\n",
       "      <td id=\"T_23fd3_row2_col33\" class=\"data row2 col33\" >0.001546</td>\n",
       "      <td id=\"T_23fd3_row2_col34\" class=\"data row2 col34\" >0.005116</td>\n",
       "      <td id=\"T_23fd3_row2_col35\" class=\"data row2 col35\" >0.061902</td>\n",
       "      <td id=\"T_23fd3_row2_col36\" class=\"data row2 col36\" >0.003123</td>\n",
       "      <td id=\"T_23fd3_row2_col37\" class=\"data row2 col37\" >0.026989</td>\n",
       "      <td id=\"T_23fd3_row2_col38\" class=\"data row2 col38\" >0.000925</td>\n",
       "      <td id=\"T_23fd3_row2_col39\" class=\"data row2 col39\" >0.000258</td>\n",
       "      <td id=\"T_23fd3_row2_col40\" class=\"data row2 col40\" >0.024298</td>\n",
       "      <td id=\"T_23fd3_row2_col41\" class=\"data row2 col41\" >1.039454</td>\n",
       "      <td id=\"T_23fd3_row2_col42\" class=\"data row2 col42\" >0.000904</td>\n",
       "      <td id=\"T_23fd3_row2_col43\" class=\"data row2 col43\" >0.891979</td>\n",
       "      <td id=\"T_23fd3_row2_col44\" class=\"data row2 col44\" >0.025128</td>\n",
       "      <td id=\"T_23fd3_row2_col45\" class=\"data row2 col45\" >0.257124</td>\n",
       "      <td id=\"T_23fd3_row2_col46\" class=\"data row2 col46\" >0.000059</td>\n",
       "      <td id=\"T_23fd3_row2_col47\" class=\"data row2 col47\" >0.350181</td>\n",
       "      <td id=\"T_23fd3_row2_col48\" class=\"data row2 col48\" >0.000074</td>\n",
       "      <td id=\"T_23fd3_row2_col49\" class=\"data row2 col49\" >0.104906</td>\n",
       "      <td id=\"T_23fd3_row2_col50\" class=\"data row2 col50\" >0.025254</td>\n",
       "      <td id=\"T_23fd3_row2_col51\" class=\"data row2 col51\" >0.066792</td>\n",
       "      <td id=\"T_23fd3_row2_col52\" class=\"data row2 col52\" >0.018072</td>\n",
       "      <td id=\"T_23fd3_row2_col53\" class=\"data row2 col53\" >0.087941</td>\n",
       "      <td id=\"T_23fd3_row2_col54\" class=\"data row2 col54\" >0.000085</td>\n",
       "      <td id=\"T_23fd3_row2_col55\" class=\"data row2 col55\" >0.014994</td>\n",
       "      <td id=\"T_23fd3_row2_col56\" class=\"data row2 col56\" >0.002232</td>\n",
       "      <td id=\"T_23fd3_row2_col57\" class=\"data row2 col57\" >0.092064</td>\n",
       "      <td id=\"T_23fd3_row2_col58\" class=\"data row2 col58\" >0.014654</td>\n",
       "      <td id=\"T_23fd3_row2_col59\" class=\"data row2 col59\" >0.010690</td>\n",
       "      <td id=\"T_23fd3_row2_col60\" class=\"data row2 col60\" >0.001633</td>\n",
       "    </tr>\n",
       "    <tr>\n",
       "      <th id=\"T_23fd3_level0_row3\" class=\"row_heading level0 row3\" >3</th>\n",
       "      <td id=\"T_23fd3_row3_col0\" class=\"data row3 col0\" >sum</td>\n",
       "      <td id=\"T_23fd3_row3_col1\" class=\"data row3 col1\" >1.551085</td>\n",
       "      <td id=\"T_23fd3_row3_col2\" class=\"data row3 col2\" >0.342382</td>\n",
       "      <td id=\"T_23fd3_row3_col3\" class=\"data row3 col3\" >0.575917</td>\n",
       "      <td id=\"T_23fd3_row3_col4\" class=\"data row3 col4\" >0.051618</td>\n",
       "      <td id=\"T_23fd3_row3_col5\" class=\"data row3 col5\" >1.487251</td>\n",
       "      <td id=\"T_23fd3_row3_col6\" class=\"data row3 col6\" >0.039245</td>\n",
       "      <td id=\"T_23fd3_row3_col7\" class=\"data row3 col7\" >0.424745</td>\n",
       "      <td id=\"T_23fd3_row3_col8\" class=\"data row3 col8\" >0.201057</td>\n",
       "      <td id=\"T_23fd3_row3_col9\" class=\"data row3 col9\" >0.017099</td>\n",
       "      <td id=\"T_23fd3_row3_col10\" class=\"data row3 col10\" >0.081218</td>\n",
       "      <td id=\"T_23fd3_row3_col11\" class=\"data row3 col11\" >0.168591</td>\n",
       "      <td id=\"T_23fd3_row3_col12\" class=\"data row3 col12\" >0.196305</td>\n",
       "      <td id=\"T_23fd3_row3_col13\" class=\"data row3 col13\" >0.251423</td>\n",
       "      <td id=\"T_23fd3_row3_col14\" class=\"data row3 col14\" >0.017267</td>\n",
       "      <td id=\"T_23fd3_row3_col15\" class=\"data row3 col15\" >0.021020</td>\n",
       "      <td id=\"T_23fd3_row3_col16\" class=\"data row3 col16\" >0.115021</td>\n",
       "      <td id=\"T_23fd3_row3_col17\" class=\"data row3 col17\" >0.036327</td>\n",
       "      <td id=\"T_23fd3_row3_col18\" class=\"data row3 col18\" >0.031474</td>\n",
       "      <td id=\"T_23fd3_row3_col19\" class=\"data row3 col19\" >0.058254</td>\n",
       "      <td id=\"T_23fd3_row3_col20\" class=\"data row3 col20\" >0.123373</td>\n",
       "      <td id=\"T_23fd3_row3_col21\" class=\"data row3 col21\" >5.634506</td>\n",
       "      <td id=\"T_23fd3_row3_col22\" class=\"data row3 col22\" >1.694288</td>\n",
       "      <td id=\"T_23fd3_row3_col23\" class=\"data row3 col23\" >0.430978</td>\n",
       "      <td id=\"T_23fd3_row3_col24\" class=\"data row3 col24\" >0.255995</td>\n",
       "      <td id=\"T_23fd3_row3_col25\" class=\"data row3 col25\" >0.062107</td>\n",
       "      <td id=\"T_23fd3_row3_col26\" class=\"data row3 col26\" >0.008407</td>\n",
       "      <td id=\"T_23fd3_row3_col27\" class=\"data row3 col27\" >0.139559</td>\n",
       "      <td id=\"T_23fd3_row3_col28\" class=\"data row3 col28\" >0.315577</td>\n",
       "      <td id=\"T_23fd3_row3_col29\" class=\"data row3 col29\" >0.270291</td>\n",
       "      <td id=\"T_23fd3_row3_col30\" class=\"data row3 col30\" >0.102139</td>\n",
       "      <td id=\"T_23fd3_row3_col31\" class=\"data row3 col31\" >0.321598</td>\n",
       "      <td id=\"T_23fd3_row3_col32\" class=\"data row3 col32\" >0.205243</td>\n",
       "      <td id=\"T_23fd3_row3_col33\" class=\"data row3 col33\" >0.090224</td>\n",
       "      <td id=\"T_23fd3_row3_col34\" class=\"data row3 col34\" >0.075666</td>\n",
       "      <td id=\"T_23fd3_row3_col35\" class=\"data row3 col35\" >0.077108</td>\n",
       "      <td id=\"T_23fd3_row3_col36\" class=\"data row3 col36\" >0.036027</td>\n",
       "      <td id=\"T_23fd3_row3_col37\" class=\"data row3 col37\" >0.038058</td>\n",
       "      <td id=\"T_23fd3_row3_col38\" class=\"data row3 col38\" >0.027997</td>\n",
       "      <td id=\"T_23fd3_row3_col39\" class=\"data row3 col39\" >0.018619</td>\n",
       "      <td id=\"T_23fd3_row3_col40\" class=\"data row3 col40\" >0.114863</td>\n",
       "      <td id=\"T_23fd3_row3_col41\" class=\"data row3 col41\" >1.518204</td>\n",
       "      <td id=\"T_23fd3_row3_col42\" class=\"data row3 col42\" >0.009468</td>\n",
       "      <td id=\"T_23fd3_row3_col43\" class=\"data row3 col43\" >2.156875</td>\n",
       "      <td id=\"T_23fd3_row3_col44\" class=\"data row3 col44\" >0.449566</td>\n",
       "      <td id=\"T_23fd3_row3_col45\" class=\"data row3 col45\" >0.622515</td>\n",
       "      <td id=\"T_23fd3_row3_col46\" class=\"data row3 col46\" >0.641819</td>\n",
       "      <td id=\"T_23fd3_row3_col47\" class=\"data row3 col47\" >0.664870</td>\n",
       "      <td id=\"T_23fd3_row3_col48\" class=\"data row3 col48\" >0.004554</td>\n",
       "      <td id=\"T_23fd3_row3_col49\" class=\"data row3 col49\" >0.188794</td>\n",
       "      <td id=\"T_23fd3_row3_col50\" class=\"data row3 col50\" >0.069786</td>\n",
       "      <td id=\"T_23fd3_row3_col51\" class=\"data row3 col51\" >0.081401</td>\n",
       "      <td id=\"T_23fd3_row3_col52\" class=\"data row3 col52\" >0.104284</td>\n",
       "      <td id=\"T_23fd3_row3_col53\" class=\"data row3 col53\" >0.169336</td>\n",
       "      <td id=\"T_23fd3_row3_col54\" class=\"data row3 col54\" >0.042986</td>\n",
       "      <td id=\"T_23fd3_row3_col55\" class=\"data row3 col55\" >0.037708</td>\n",
       "      <td id=\"T_23fd3_row3_col56\" class=\"data row3 col56\" >0.032758</td>\n",
       "      <td id=\"T_23fd3_row3_col57\" class=\"data row3 col57\" >0.093441</td>\n",
       "      <td id=\"T_23fd3_row3_col58\" class=\"data row3 col58\" >0.072868</td>\n",
       "      <td id=\"T_23fd3_row3_col59\" class=\"data row3 col59\" >0.068009</td>\n",
       "      <td id=\"T_23fd3_row3_col60\" class=\"data row3 col60\" >0.014536</td>\n",
       "    </tr>\n",
       "  </tbody>\n",
       "</table>\n"
      ],
      "text/plain": [
       "<pandas.io.formats.style.Styler at 0x15aac51b0>"
      ]
     },
     "execution_count": 5,
     "metadata": {},
     "output_type": "execute_result"
    }
   ],
   "source": [
    "# Rename data columns to be indexed by 0\n",
    "columns = [\"label\"] + [i for i in range(60)]\n",
    "generated_num_features.set_axis(columns, axis=1, inplace=True)\n",
    "\n",
    "labels = [i for i in range(10)]\n",
    "\n",
    "# Generate the FDR table to rank features by class combinations for classes 0, 1, and 4\n",
    "FDR_table, _, rankings = FDR.FDR_multiclass_feature_ranking(generated_num_features, [0, 1, 4], \"label\", \"sum\")\n",
    "FDR_table"
   ]
  },
  {
   "cell_type": "code",
   "execution_count": 6,
   "id": "3b1b9dd0-a951-4776-87ef-47f6167567d4",
   "metadata": {
    "colab": {
     "base_uri": "https://localhost:8080/"
    },
    "id": "3b1b9dd0-a951-4776-87ef-47f6167567d4",
    "outputId": "ad3c1bfb-a789-4986-b77c-970cca823138"
   },
   "outputs": [
    {
     "name": "stdout",
     "output_type": "stream",
     "text": [
      "The top two features to separate classes 0, 1, and 4 are [20, 42]\n"
     ]
    }
   ],
   "source": [
    "print(f\"The top two features to separate classes 0, 1, and 4 are {rankings[:2]}\")"
   ]
  },
  {
   "cell_type": "code",
   "execution_count": 7,
   "id": "df7d289d-9dd6-46d9-8df7-4ed52b462fd3",
   "metadata": {
    "id": "df7d289d-9dd6-46d9-8df7-4ed52b462fd3"
   },
   "outputs": [],
   "source": [
    "# Get the top two features from the dataframe\n",
    "top_features_df = generated_num_features.filter([\"label\"] + rankings[:2], axis=1)\n",
    "\n",
    "# Get 100 class examples of classes [0, 1, 4]\n",
    "number_classes = common.split_by_class(top_features_df, [0, 1, 4], \"label\", 100)\n",
    "new_num_features = common.reformat_df_by_class(number_classes.values())"
   ]
  },
  {
   "cell_type": "code",
   "execution_count": 8,
   "id": "99ce50ec-7f9c-4785-8838-10ea3e86e2c7",
   "metadata": {
    "id": "99ce50ec-7f9c-4785-8838-10ea3e86e2c7"
   },
   "outputs": [],
   "source": [
    "# split data and labels\n",
    "new_labels, new_features = common.split_labels(new_num_features, \"label\")\n",
    "new_features = np.array(new_features)\n",
    "\n",
    "# get values for expectation maximization algorithm\n",
    "k, x, m, std, prob = EM.prepare_data_EM(new_features, 3, np.array([0.5377, 1.8339, -2.2588]))\n",
    "\n",
    "# set the convergence threshold\n",
    "convergence_threshold = std[1] * 1.0e-6;\n",
    "\n",
    "# Call expecation maximization algorithm\n",
    "new_prob, new_m, new_std, prob_ikn, iterations = EM.simple_expectation_maximization(x.T, k, prob, m, std, convergence_threshold) "
   ]
  },
  {
   "cell_type": "markdown",
   "id": "548620f2-3cfc-4a4b-99fe-83f3d80b45a9",
   "metadata": {
    "id": "548620f2-3cfc-4a4b-99fe-83f3d80b45a9"
   },
   "source": [
    "#### (a) (5 points) Create 3 clusters for the numerical values that have the best separation."
   ]
  },
  {
   "cell_type": "code",
   "execution_count": 9,
   "id": "53ee944a-e96f-4508-b783-0ffecfa34594",
   "metadata": {
    "id": "53ee944a-e96f-4508-b783-0ffecfa34594"
   },
   "outputs": [],
   "source": [
    "# get clusters from EM\n",
    "clusters = EM.get_clusters(prob_ikn, 3)"
   ]
  },
  {
   "cell_type": "markdown",
   "id": "cb5d9dca-4cb0-4dc3-b24d-7881737d0b98",
   "metadata": {
    "id": "cb5d9dca-4cb0-4dc3-b24d-7881737d0b98"
   },
   "source": [
    "#### (b) (5 points) Display the 3 numerical values using different colors for a good visual representation."
   ]
  },
  {
   "cell_type": "code",
   "execution_count": 10,
   "id": "8292bc34-e24f-458f-a90d-3d5afb16adaa",
   "metadata": {
    "colab": {
     "base_uri": "https://localhost:8080/",
     "height": 431
    },
    "id": "8292bc34-e24f-458f-a90d-3d5afb16adaa",
    "outputId": "b5a015e4-be72-4f86-970c-b7b193fdfc3d"
   },
   "outputs": [
    {
     "data": {
      "image/png": "[encoded data removed]",
      "text/plain": [
       "<Figure size 640x480 with 1 Axes>"
      ]
     },
     "metadata": {},
     "output_type": "display_data"
    }
   ],
   "source": [
    "# Plot clusters\n",
    "common.plot_clusters(new_num_features, clusters, ['xb', '^r', 'og'])"
   ]
  },
  {
   "cell_type": "code",
   "execution_count": 11,
   "id": "3b1e0714-de20-42f1-93f9-ca0afc5781c2",
   "metadata": {
    "id": "3b1e0714-de20-42f1-93f9-ca0afc5781c2"
   },
   "outputs": [],
   "source": [
    "# Perform another analysis using  features 2 and 20 as suggested in office hours\n",
    "# Get the top two features from the dataframe\n",
    "top_features_df = generated_num_features.filter([\"label\"] + [2, 20], axis=1)\n",
    "\n",
    "# Get 100 class examples of classes [0, 1, 4]\n",
    "number_classes = common.split_by_class(top_features_df, [0, 1, 4], \"label\", 100)\n",
    "new_num_features = common.reformat_df_by_class(number_classes.values())"
   ]
  },
  {
   "cell_type": "code",
   "execution_count": 12,
   "id": "b2f114be-660c-42e1-8dbc-972a8f1aac26",
   "metadata": {
    "id": "b2f114be-660c-42e1-8dbc-972a8f1aac26"
   },
   "outputs": [],
   "source": [
    "# set values for expectation maximization algorithm\n",
    "k = 3\n",
    "\n",
    "# split data and labels\n",
    "new_labels, new_features = common.split_labels(new_num_features, \"label\")\n",
    "new_features = np.array(new_features)\n",
    "\n",
    "# get values for expectation maximization algorithm\n",
    "k, x, m, std, prop = EM.prepare_data_EM(new_features, 3, np.array([0.5377, 1.8339, -2.2588]))\n",
    "\n",
    "# set the convergence threshold\n",
    "convergence_threshold = std[1] * 1.0e-6;\n",
    "\n",
    "# Call expecation maximization algorithm\n",
    "new_prob, new_m, new_std, prob_ikn, iterations = EM.simple_expectation_maximization(x.T, k, prob, m, std, convergence_threshold)  "
   ]
  },
  {
   "cell_type": "code",
   "execution_count": 13,
   "id": "ed19c1e6-a2af-491c-915a-371e5836d2a3",
   "metadata": {
    "colab": {
     "base_uri": "https://localhost:8080/",
     "height": 430
    },
    "id": "ed19c1e6-a2af-491c-915a-371e5836d2a3",
    "outputId": "4941f702-3cef-43af-c248-57cde010a16b"
   },
   "outputs": [
    {
     "data": {
      "image/png": "[encoded data removed]",
      "text/plain": [
       "<Figure size 640x480 with 1 Axes>"
      ]
     },
     "metadata": {},
     "output_type": "display_data"
    }
   ],
   "source": [
    "# Get clusters from EM\n",
    "clusters = EM.get_clusters(prob_ikn, 3)\n",
    "\n",
    "# Plot clusters\n",
    "common.plot_clusters(new_num_features, clusters, ['xb', '^r', 'og'])"
   ]
  },
  {
   "cell_type": "markdown",
   "id": "8a038654-04f1-40b5-b3e0-867c87fa2328",
   "metadata": {
    "id": "8a038654-04f1-40b5-b3e0-867c87fa2328"
   },
   "source": [
    "#### (c) (5 points) Provide an analysis of your results, e.g., what is your observation of the results, how well did the clusters group each class, etc."
   ]
  },
  {
   "cell_type": "markdown",
   "id": "6dcb9743-7026-488b-81ff-25d0d7c29f84",
   "metadata": {
    "id": "6dcb9743-7026-488b-81ff-25d0d7c29f84"
   },
   "source": [
    "The first analysis used FDR feature ranking to determine the best features to separate classes 0, 1, and 4. The second analysis used features 2 and 20 as suggested during office hours. Both implementations generated three distinct clusters for the numerical classes. The expectation-maximization algorithm generated these clusters by calculating the membership probability of each example based on posterior probabilities. "
   ]
  },
  {
   "cell_type": "markdown",
   "id": "673630ee-d8f9-4200-973a-7203a0abad33",
   "metadata": {
    "id": "673630ee-d8f9-4200-973a-7203a0abad33"
   },
   "source": [
    "## Problem 2 - Machine Learning\n",
    "45 Points Total\n",
    "\n",
    "In this problem the features generated from HW2 for the numerical data set are to be used. This is the starting point for this problem. A minimum of 5,000 observations need to be used in the problem. A data set developed with the numericalFeatureGeneratorExample.m will also be provided if needed. The updated data is provided as an Excel file with 42,000 observations and 60 features, 20 from each direction. In this assignment data processing and machine learning techniques need to be combined. The ”best” combination is determined by the best classification accuracy."
   ]
  },
  {
   "cell_type": "code",
   "execution_count": 14,
   "id": "5992ce4c-9e36-4204-8da4-1b2e590d6a70",
   "metadata": {
    "colab": {
     "base_uri": "https://localhost:8080/",
     "height": 300
    },
    "id": "5992ce4c-9e36-4204-8da4-1b2e590d6a70",
    "outputId": "480adfdb-6d29-42ce-c50a-28ebb25de349"
   },
   "outputs": [
    {
     "data": {
      "text/html": [
       "<div>\n",
       "<style scoped>\n",
       "    .dataframe tbody tr th:only-of-type {\n",
       "        vertical-align: middle;\n",
       "    }\n",
       "\n",
       "    .dataframe tbody tr th {\n",
       "        vertical-align: top;\n",
       "    }\n",
       "\n",
       "    .dataframe thead th {\n",
       "        text-align: right;\n",
       "    }\n",
       "</style>\n",
       "<table border=\"1\" class=\"dataframe\">\n",
       "  <thead>\n",
       "    <tr style=\"text-align: right;\">\n",
       "      <th></th>\n",
       "      <th>label</th>\n",
       "      <th>0</th>\n",
       "      <th>1</th>\n",
       "      <th>2</th>\n",
       "      <th>3</th>\n",
       "      <th>4</th>\n",
       "      <th>5</th>\n",
       "      <th>6</th>\n",
       "      <th>7</th>\n",
       "      <th>8</th>\n",
       "      <th>...</th>\n",
       "      <th>50</th>\n",
       "      <th>51</th>\n",
       "      <th>52</th>\n",
       "      <th>53</th>\n",
       "      <th>54</th>\n",
       "      <th>55</th>\n",
       "      <th>56</th>\n",
       "      <th>57</th>\n",
       "      <th>58</th>\n",
       "      <th>59</th>\n",
       "    </tr>\n",
       "  </thead>\n",
       "  <tbody>\n",
       "    <tr>\n",
       "      <th>0</th>\n",
       "      <td>1</td>\n",
       "      <td>538.267964</td>\n",
       "      <td>-314.023125</td>\n",
       "      <td>443.809967</td>\n",
       "      <td>470.780028</td>\n",
       "      <td>176.561668</td>\n",
       "      <td>-336.130920</td>\n",
       "      <td>23.221391</td>\n",
       "      <td>-45.523748</td>\n",
       "      <td>-232.436917</td>\n",
       "      <td>...</td>\n",
       "      <td>-90.463868</td>\n",
       "      <td>107.934027</td>\n",
       "      <td>25.417533</td>\n",
       "      <td>-97.235438</td>\n",
       "      <td>-66.589588</td>\n",
       "      <td>22.468479</td>\n",
       "      <td>-111.476083</td>\n",
       "      <td>62.807185</td>\n",
       "      <td>74.771969</td>\n",
       "      <td>-7.480156</td>\n",
       "    </tr>\n",
       "    <tr>\n",
       "      <th>1</th>\n",
       "      <td>0</td>\n",
       "      <td>-238.730010</td>\n",
       "      <td>224.609513</td>\n",
       "      <td>-197.464121</td>\n",
       "      <td>23.557813</td>\n",
       "      <td>-219.122649</td>\n",
       "      <td>-223.695514</td>\n",
       "      <td>-172.689736</td>\n",
       "      <td>125.561839</td>\n",
       "      <td>-194.150108</td>\n",
       "      <td>...</td>\n",
       "      <td>44.464226</td>\n",
       "      <td>-7.825244</td>\n",
       "      <td>-5.260700</td>\n",
       "      <td>18.905444</td>\n",
       "      <td>9.593545</td>\n",
       "      <td>-40.015688</td>\n",
       "      <td>-96.469679</td>\n",
       "      <td>24.317962</td>\n",
       "      <td>-137.943930</td>\n",
       "      <td>94.025390</td>\n",
       "    </tr>\n",
       "    <tr>\n",
       "      <th>2</th>\n",
       "      <td>1</td>\n",
       "      <td>51.647165</td>\n",
       "      <td>-27.271305</td>\n",
       "      <td>-185.258708</td>\n",
       "      <td>-50.103687</td>\n",
       "      <td>216.830344</td>\n",
       "      <td>-207.152351</td>\n",
       "      <td>60.301310</td>\n",
       "      <td>95.431402</td>\n",
       "      <td>-117.051561</td>\n",
       "      <td>...</td>\n",
       "      <td>-12.722596</td>\n",
       "      <td>-3.039582</td>\n",
       "      <td>-26.963181</td>\n",
       "      <td>-18.563280</td>\n",
       "      <td>16.095458</td>\n",
       "      <td>-81.075489</td>\n",
       "      <td>-42.589100</td>\n",
       "      <td>52.083444</td>\n",
       "      <td>-29.080312</td>\n",
       "      <td>42.344233</td>\n",
       "    </tr>\n",
       "    <tr>\n",
       "      <th>3</th>\n",
       "      <td>4</td>\n",
       "      <td>110.890600</td>\n",
       "      <td>62.854265</td>\n",
       "      <td>-97.528878</td>\n",
       "      <td>-21.291295</td>\n",
       "      <td>297.976619</td>\n",
       "      <td>-32.899732</td>\n",
       "      <td>34.647964</td>\n",
       "      <td>-85.574818</td>\n",
       "      <td>-60.120835</td>\n",
       "      <td>...</td>\n",
       "      <td>23.112458</td>\n",
       "      <td>-62.558569</td>\n",
       "      <td>-115.846264</td>\n",
       "      <td>-16.405413</td>\n",
       "      <td>-37.548852</td>\n",
       "      <td>-269.649782</td>\n",
       "      <td>-130.725868</td>\n",
       "      <td>-23.526366</td>\n",
       "      <td>-20.448849</td>\n",
       "      <td>37.234782</td>\n",
       "    </tr>\n",
       "    <tr>\n",
       "      <th>4</th>\n",
       "      <td>0</td>\n",
       "      <td>-300.296735</td>\n",
       "      <td>152.547221</td>\n",
       "      <td>-91.949199</td>\n",
       "      <td>90.416744</td>\n",
       "      <td>-453.385929</td>\n",
       "      <td>-89.195463</td>\n",
       "      <td>-15.051828</td>\n",
       "      <td>-38.036779</td>\n",
       "      <td>-190.363654</td>\n",
       "      <td>...</td>\n",
       "      <td>-28.107534</td>\n",
       "      <td>30.400739</td>\n",
       "      <td>-47.075128</td>\n",
       "      <td>-13.092383</td>\n",
       "      <td>-85.371052</td>\n",
       "      <td>-141.450375</td>\n",
       "      <td>-36.200100</td>\n",
       "      <td>114.188444</td>\n",
       "      <td>-21.988893</td>\n",
       "      <td>-46.480710</td>\n",
       "    </tr>\n",
       "  </tbody>\n",
       "</table>\n",
       "<p>5 rows × 61 columns</p>\n",
       "</div>"
      ],
      "text/plain": [
       "   label           0           1           2           3           4  \\\n",
       "0      1  538.267964 -314.023125  443.809967  470.780028  176.561668   \n",
       "1      0 -238.730010  224.609513 -197.464121   23.557813 -219.122649   \n",
       "2      1   51.647165  -27.271305 -185.258708  -50.103687  216.830344   \n",
       "3      4  110.890600   62.854265  -97.528878  -21.291295  297.976619   \n",
       "4      0 -300.296735  152.547221  -91.949199   90.416744 -453.385929   \n",
       "\n",
       "            5           6           7           8  ...         50          51  \\\n",
       "0 -336.130920   23.221391  -45.523748 -232.436917  ... -90.463868  107.934027   \n",
       "1 -223.695514 -172.689736  125.561839 -194.150108  ...  44.464226   -7.825244   \n",
       "2 -207.152351   60.301310   95.431402 -117.051561  ... -12.722596   -3.039582   \n",
       "3  -32.899732   34.647964  -85.574818  -60.120835  ...  23.112458  -62.558569   \n",
       "4  -89.195463  -15.051828  -38.036779 -190.363654  ... -28.107534   30.400739   \n",
       "\n",
       "           52         53         54          55          56          57  \\\n",
       "0   25.417533 -97.235438 -66.589588   22.468479 -111.476083   62.807185   \n",
       "1   -5.260700  18.905444   9.593545  -40.015688  -96.469679   24.317962   \n",
       "2  -26.963181 -18.563280  16.095458  -81.075489  -42.589100   52.083444   \n",
       "3 -115.846264 -16.405413 -37.548852 -269.649782 -130.725868  -23.526366   \n",
       "4  -47.075128 -13.092383 -85.371052 -141.450375  -36.200100  114.188444   \n",
       "\n",
       "           58         59  \n",
       "0   74.771969  -7.480156  \n",
       "1 -137.943930  94.025390  \n",
       "2  -29.080312  42.344233  \n",
       "3  -20.448849  37.234782  \n",
       "4  -21.988893 -46.480710  \n",
       "\n",
       "[5 rows x 61 columns]"
      ]
     },
     "execution_count": 14,
     "metadata": {},
     "output_type": "execute_result"
    }
   ],
   "source": [
    "# Visualize the data\n",
    "generated_num_features.head()"
   ]
  },
  {
   "cell_type": "code",
   "execution_count": 15,
   "id": "9b85bfc3-ede0-4349-a4fa-8556869ff398",
   "metadata": {
    "id": "9b85bfc3-ede0-4349-a4fa-8556869ff398"
   },
   "outputs": [],
   "source": [
    "# Separate labels and features\n",
    "num_features_labels, num_features = common.split_labels(generated_num_features.iloc[:5000, :], \"label\") "
   ]
  },
  {
   "cell_type": "markdown",
   "id": "3aa636cd-7f2f-440c-8cfe-3e3ab910a421",
   "metadata": {
    "id": "3aa636cd-7f2f-440c-8cfe-3e3ab910a421"
   },
   "source": [
    "### 1. [5 points] Use a minimum of one of following data preprocessing methods (If more than one method, the processing order is up to you. Built-ins are allowed.):\n",
    "\n",
    "(a) Data Normalization\n",
    "\n",
    "(b) Outlier Removal\n",
    "\n",
    "(c) Feature Ranking and Selection\n",
    "\n",
    "(d) Dimensionality Reduction"
   ]
  },
  {
   "cell_type": "code",
   "execution_count": 16,
   "id": "bd3911f7-04a0-4456-9666-b04f0e817b6c",
   "metadata": {
    "id": "bd3911f7-04a0-4456-9666-b04f0e817b6c"
   },
   "outputs": [],
   "source": [
    "norm_num_features = norm.normalize(num_features)"
   ]
  },
  {
   "cell_type": "markdown",
   "id": "d3c373ce-af82-426f-87c7-954db10db57d",
   "metadata": {
    "id": "d3c373ce-af82-426f-87c7-954db10db57d"
   },
   "source": [
    "### 2. [30 points total] Use the following Machine Learning (ML) techniques (built-ins are allowed):"
   ]
  },
  {
   "cell_type": "code",
   "execution_count": 17,
   "id": "22b257d3-ed1b-4fbd-b4fa-1e7ea2d8d859",
   "metadata": {
    "colab": {
     "base_uri": "https://localhost:8080/"
    },
    "id": "22b257d3-ed1b-4fbd-b4fa-1e7ea2d8d859",
    "outputId": "d1b2e991-0b78-48ca-ab73-554e63b2a7ee"
   },
   "outputs": [
    {
     "name": "stdout",
     "output_type": "stream",
     "text": [
      "There are 4000 training examples and 1000 testing examples.\n"
     ]
    }
   ],
   "source": [
    "# split data for testing \n",
    "train_data, test_data, train_labels, test_labels = common.split_train_test(norm_num_features, num_features_labels, 0.20)\n",
    "print(f\"There are {len(train_labels)} training examples and {len(test_labels)} testing examples.\")"
   ]
  },
  {
   "cell_type": "markdown",
   "id": "f8666e78-805e-43e6-a1eb-d8df4e6406f2",
   "metadata": {
    "id": "f8666e78-805e-43e6-a1eb-d8df4e6406f2"
   },
   "source": [
    "#### (a) [10 points] Bayes Classifier"
   ]
  },
  {
   "cell_type": "code",
   "execution_count": 46,
   "id": "c561fd8f-3885-4647-b608-ff4639988660",
   "metadata": {
    "colab": {
     "base_uri": "https://localhost:8080/"
    },
    "id": "c561fd8f-3885-4647-b608-ff4639988660",
    "outputId": "42a533d1-7b97-4130-90eb-962ab2c7fcd7"
   },
   "outputs": [
    {
     "name": "stdout",
     "output_type": "stream",
     "text": [
      "The Bayes classifier had an accuracy of 94.7% on the test data.\n",
      "Confusion Matrix:\n",
      "\n",
      "Predicted   0    1    2    3   4   5    6   7   8   9\n",
      "Actual                                               \n",
      "0          92    0    0    0   0   1    0   0   1   0\n",
      "1           0  101    3    0   0   0    0   0   8   0\n",
      "2           1    0  112    0   0   0    0   0   2   0\n",
      "3           0    0    1  106   0   0    0   0   3   0\n",
      "4           0    0    1    0  87   0    0   0   0   0\n",
      "5           0    0    0    5   0  85    0   0   0   0\n",
      "6           1    0    0    0   0   1  101   0   0   0\n",
      "7           0    0    3    0   2   0    0  87   1   4\n",
      "8           1    0    1    2   0   0    0   0  90   0\n",
      "9           0    0    1    0   6   0    0   3   1  86\n",
      "\n"
     ]
    }
   ],
   "source": [
    "# Fit the model with the training dataset\n",
    "train_set = pd.concat([train_labels, train_data], axis=1)\n",
    "model = bayes_model.build_model(train_set, [i for i in range(10)], \"label\")\n",
    "\n",
    "# Determine classification accuracy with the test dataset\n",
    "classifications, y_posterior = bayes.bayes_classifier(test_data, model)\n",
    "labels = list(test_labels)\n",
    "accuracy = common.get_accuracy(classifications, labels)\n",
    "print(f\"The Bayes classifier had an accuracy of {accuracy}% on the test data.\")\n",
    "common.confusion_matrix(labels, classifications)"
   ]
  },
  {
   "cell_type": "markdown",
   "id": "b50a149e-4a10-40d7-a4f4-b2e1023a83e7",
   "metadata": {
    "id": "b50a149e-4a10-40d7-a4f4-b2e1023a83e7"
   },
   "source": [
    "#### (b) [10 points] Parzen Window (Gaussian kernel)"
   ]
  },
  {
   "cell_type": "code",
   "execution_count": 47,
   "id": "c39ad1db-5483-40fd-a954-a6eef3faee69",
   "metadata": {
    "colab": {
     "base_uri": "https://localhost:8080/"
    },
    "id": "c39ad1db-5483-40fd-a954-a6eef3faee69",
    "outputId": "3ed24575-e467-4e12-b0fb-f0184dea2c49"
   },
   "outputs": [
    {
     "name": "stdout",
     "output_type": "stream",
     "text": [
      "Testing Parzen window algorithm with training and test set\n",
      "Parzen window training...\n",
      "\n",
      "Training with class 0/9\n",
      "Training with class 1/9\n",
      "Training with class 2/9\n",
      "Training with class 3/9\n",
      "Training with class 4/9\n",
      "Training with class 5/9\n",
      "Training with class 6/9\n",
      "Training with class 7/9\n",
      "Training with class 8/9\n",
      "Training with class 9/9\n",
      "\n",
      "Accuracy: 91.7%\n",
      "Confusion Matrix:\n",
      "\n",
      "Predicted   0    1    2    3   4   5    6   7   8   9\n",
      "Actual                                               \n",
      "0          89    1    0    1   0   1    2   0   0   0\n",
      "1           0  110    1    0   0   0    0   1   0   0\n",
      "2           1    2  107    0   0   0    0   2   1   2\n",
      "3           1    0    0  100   0   4    0   1   3   1\n",
      "4           0    1    0    0  82   0    0   1   0   4\n",
      "5           0    1    0    4   0  79    2   0   0   4\n",
      "6           1    0    0    0   0   1  101   0   0   0\n",
      "7           0    4    0    0   2   0    0  86   0   5\n",
      "8           2    1    1    2   1   6    0   2  79   0\n",
      "9           0    2    1    0   4   0    0   5   1  84\n",
      "\n"
     ]
    }
   ],
   "source": [
    "classes = [i for i in range(10)]\n",
    "print(\"Testing Parzen window algorithm with training and test set\")\n",
    "parzens = parzen.run_parzen_window(train_data, train_labels, test_data, test_labels, classes, 0.1)"
   ]
  },
  {
   "cell_type": "markdown",
   "id": "e4e018f0-7407-498b-99bb-9fdc38a38a75",
   "metadata": {
    "id": "e4e018f0-7407-498b-99bb-9fdc38a38a75"
   },
   "source": [
    "#### (c) [10 points] Neural Network, method of your choice from a built-in"
   ]
  },
  {
   "cell_type": "code",
   "execution_count": 48,
   "id": "50c0004e-597d-414b-b4de-45b61ef277b9",
   "metadata": {
    "colab": {
     "base_uri": "https://localhost:8080/"
    },
    "id": "50c0004e-597d-414b-b4de-45b61ef277b9",
    "outputId": "1014579e-eb88-4b08-cd24-f3e916431a1c"
   },
   "outputs": [
    {
     "name": "stdout",
     "output_type": "stream",
     "text": [
      "Epoch 1/20\n",
      "400/400 [==============================] - 2s 3ms/step - loss: 1.4713 - accuracy: 0.5612\n",
      "Epoch 2/20\n",
      "400/400 [==============================] - 1s 3ms/step - loss: 0.6488 - accuracy: 0.8083\n",
      "Epoch 3/20\n",
      "400/400 [==============================] - 1s 3ms/step - loss: 0.5115 - accuracy: 0.8470\n",
      "Epoch 4/20\n",
      "400/400 [==============================] - 1s 3ms/step - loss: 0.4570 - accuracy: 0.8618\n",
      "Epoch 5/20\n",
      "400/400 [==============================] - 2s 4ms/step - loss: 0.4288 - accuracy: 0.8725\n",
      "Epoch 6/20\n",
      "400/400 [==============================] - 1s 3ms/step - loss: 0.3998 - accuracy: 0.8752\n",
      "Epoch 7/20\n",
      "400/400 [==============================] - 2s 5ms/step - loss: 0.3649 - accuracy: 0.8923\n",
      "Epoch 8/20\n",
      "400/400 [==============================] - 2s 5ms/step - loss: 0.3531 - accuracy: 0.8955\n",
      "Epoch 9/20\n",
      "400/400 [==============================] - 2s 5ms/step - loss: 0.3356 - accuracy: 0.8978\n",
      "Epoch 10/20\n",
      "400/400 [==============================] - 2s 4ms/step - loss: 0.3147 - accuracy: 0.9015\n",
      "Epoch 11/20\n",
      "400/400 [==============================] - 1s 3ms/step - loss: 0.3246 - accuracy: 0.9025\n",
      "Epoch 12/20\n",
      "400/400 [==============================] - 1s 3ms/step - loss: 0.2877 - accuracy: 0.9097\n",
      "Epoch 13/20\n",
      "400/400 [==============================] - 1s 4ms/step - loss: 0.2767 - accuracy: 0.9110\n",
      "Epoch 14/20\n",
      "400/400 [==============================] - 1s 3ms/step - loss: 0.2594 - accuracy: 0.9208\n",
      "Epoch 15/20\n",
      "400/400 [==============================] - 1s 3ms/step - loss: 0.2433 - accuracy: 0.9233\n",
      "Epoch 16/20\n",
      "400/400 [==============================] - 1s 3ms/step - loss: 0.2410 - accuracy: 0.9233\n",
      "Epoch 17/20\n",
      "400/400 [==============================] - 1s 3ms/step - loss: 0.2235 - accuracy: 0.9305\n",
      "Epoch 18/20\n",
      "400/400 [==============================] - 1s 3ms/step - loss: 0.2096 - accuracy: 0.9355\n",
      "Epoch 19/20\n",
      "400/400 [==============================] - 1s 3ms/step - loss: 0.2011 - accuracy: 0.9330\n",
      "Epoch 20/20\n",
      "400/400 [==============================] - 1s 3ms/step - loss: 0.1929 - accuracy: 0.9358\n",
      "100/100 [==============================] - 0s 1ms/step\n",
      "\n",
      "Test accuracy: 92.8%\n",
      "\n",
      "Confusion Matrix:\n",
      "\n",
      "Predicted   0    1    2    3   4   5    6   7   8   9\n",
      "Actual                                               \n",
      "0          90    0    0    2   0   1    1   0   0   0\n",
      "1           0  106    1    3   0   2    0   0   0   0\n",
      "2           0    0  106    4   0   0    2   1   0   2\n",
      "3           0    0    0  108   0   0    0   0   2   0\n",
      "4           1    0    1    0  74   0    1   1   2   8\n",
      "5           0    0    2    5   0  81    1   0   0   1\n",
      "6           0    0    0    0   0   1  102   0   0   0\n",
      "7           0    0    1    1   1   0    1  90   0   3\n",
      "8           1    1    1    3   0   0    2   1  85   0\n",
      "9           0    2    1    1   1   0    0   2   4  86\n",
      "\n"
     ]
    },
    {
     "data": {
      "text/plain": [
       "92.8"
      ]
     },
     "execution_count": 48,
     "metadata": {},
     "output_type": "execute_result"
    }
   ],
   "source": [
    "import keras\n",
    "from keras.models import Sequential\n",
    "from keras.layers import Dense\n",
    "\n",
    "\n",
    "labels=keras.utils.to_categorical(train_labels,10)\n",
    "\n",
    "def multilayer_perceptron(train_data, test_data, train_labels, test_labels, hidden_layers: list, output_activation: str, loss_function: str, show_epochs:bool):\n",
    "    \"\"\"\n",
    "    Create a neural network and evaluate (multiclass only)\n",
    "    Inputs: data: a normalized dataset\n",
    "    hidden_layers: an array representing the hidden layers of the neural network. \n",
    "                  ex. hidden_layers = [[128, 'relu'], [256, 'relu']] is two hidden\n",
    "                  layers, one with 128 nodes and one with 256 nodes. Both layers use\n",
    "                  the relu activation function\n",
    "    output_activation: The type of activation function in the output layer\n",
    "\n",
    "    \"\"\"\n",
    "    num_classes = len(set(train_labels))\n",
    "    new_train_labels=keras.utils.to_categorical(train_labels,num_classes)\n",
    "  \n",
    "    # Feed forward neural network\n",
    "    model = Sequential()\n",
    "\n",
    "    # Hidden layers \n",
    "    for i, layer in enumerate(hidden_layers):\n",
    "        model.add(Dense(layer[0], layer[1], input_dim=60))\n",
    "    #Output Layer\n",
    "    model.add(Dense(10, activation=output_activation))\n",
    "\n",
    "    #Compiling the neural network\n",
    "    model.compile(optimizer ='adam',loss=loss_function, metrics =['accuracy'])\n",
    "\n",
    "    if show_epochs:\n",
    "      history = model.fit(train_data,new_train_labels, batch_size=10, epochs=20)\n",
    "    else:\n",
    "      history = model.fit(train_data,new_train_labels, batch_size=10, epochs=20, verbose=0)\n",
    "\n",
    "    # Get predictions to calculate accuracy and confusion matrix\n",
    "    predictions = model.predict(test_data, batch_size=10)\n",
    "    predictions = predictions.argmax(axis=1)\n",
    "    \n",
    "    accuracy = common.get_accuracy(list(test_labels), predictions)\n",
    "\n",
    "    print(f\"\\nTest accuracy: {accuracy}%\\n\")\n",
    "\n",
    "    common.confusion_matrix(list(test_labels), predictions)\n",
    "\n",
    "    return accuracy\n",
    "    \n",
    "\n",
    "multilayer_perceptron(train_data, test_data, train_labels, test_labels, [[128, 'relu'], [256, 'relu']], 'softmax', 'categorical_crossentropy', True)"
   ]
  },
  {
   "cell_type": "markdown",
   "id": "292f7517-e264-4d82-97f3-314536da4a8d",
   "metadata": {
    "id": "292f7517-e264-4d82-97f3-314536da4a8d"
   },
   "source": [
    "### 3. [5 points] Use 5-fold cross validation (from HW 3) on selected process from above."
   ]
  },
  {
   "cell_type": "code",
   "execution_count": 18,
   "id": "2f49fabb-e4ed-4d8e-bd2e-046156ffd70f",
   "metadata": {
    "colab": {
     "base_uri": "https://localhost:8080/",
     "height": 503
    },
    "id": "2f49fabb-e4ed-4d8e-bd2e-046156ffd70f",
    "outputId": "98167515-f874-41d8-e7a6-1d7f83774596"
   },
   "outputs": [
    {
     "name": "stdout",
     "output_type": "stream",
     "text": [
      "5-fold validation with the Bayes classifier\n",
      "\n",
      "Experiment 1:\n",
      "\n",
      "The Bayes classifier had an accuracy of 94.6% on the test data.\n",
      "Confusion Matrix:\n",
      "\n",
      "Predicted   0    1    2   3   4   5   6   7   8   9\n",
      "Actual                                             \n",
      "0          92    0    0   0   0   0   0   0   1   0\n",
      "1           0  114    1   0   0   0   0   0   3   0\n",
      "2           0    0  105   0   0   0   0   1   2   0\n",
      "3           0    0    3  96   0   2   0   0   2   0\n",
      "4           0    0    0   0  82   0   0   0   0   1\n",
      "5           0    0    1   3   0  91   0   0   0   0\n",
      "6           1    0    0   0   0   1  97   0   0   0\n",
      "7           1    0    8   0   0   0   0  97   2   5\n",
      "8           0    0    2   1   0   1   0   0  90   0\n",
      "9           1    0    1   0   4   0   0   4   2  82\n",
      "\n",
      "Experiment 2:\n",
      "\n",
      "The Bayes classifier had an accuracy of 95.0% on the test data.\n",
      "Confusion Matrix:\n",
      "\n",
      "Predicted   0   1    2   3   4   5    6   7   8   9\n",
      "Actual                                             \n",
      "0          99   0    1   0   0   1    0   0   0   0\n",
      "1           0  96    2   0   0   0    0   0   9   1\n",
      "2           0   0  115   0   0   0    0   0   4   0\n",
      "3           0   0    1  94   0   0    0   0   3   0\n",
      "4           0   0    1   0  91   0    0   0   2   0\n",
      "5           0   0    1   3   0  89    0   1   2   0\n",
      "6           0   0    0   0   0   0  103   0   0   0\n",
      "7           0   0    2   0   0   0    0  97   0   3\n",
      "8           2   0    0   0   0   1    0   0  87   0\n",
      "9           0   0    1   2   4   1    0   2   0  79\n",
      "\n",
      "Experiment 3:\n",
      "\n",
      "The Bayes classifier had an accuracy of 96.0% on the test data.\n",
      "Confusion Matrix:\n",
      "\n",
      "Predicted   0    1    2   3    4   5   6   7   8   9\n",
      "Actual                                              \n",
      "0          90    0    0   0    0   0   0   0   0   0\n",
      "1           0  101    1   0    0   0   0   0   1   0\n",
      "2           0    0  111   0    1   0   0   0   2   0\n",
      "3           0    0    1  97    0   1   0   0   2   1\n",
      "4           0    0    1   0  101   0   0   0   0   0\n",
      "5           1    0    1   2    0  92   0   0   2   0\n",
      "6           1    0    0   0    1   4  86   0   3   0\n",
      "7           0    0    0   0    2   0   0  93   0   1\n",
      "8           0    0    1   2    0   0   0   0  95   0\n",
      "9           0    0    1   1    4   0   0   1   1  94\n",
      "\n",
      "Experiment 4:\n",
      "\n",
      "The Bayes classifier had an accuracy of 94.3% on the test data.\n",
      "Confusion Matrix:\n",
      "\n",
      "Predicted    0    1    2   3   4   5    6   7    8   9\n",
      "Actual                                                \n",
      "0          103    0    2   0   0   0    0   0    1   0\n",
      "1            0  106    4   0   0   0    1   0    2   0\n",
      "2            0    0  100   1   0   0    0   0    0   0\n",
      "3            0    0    4  84   0   2    0   0    1   0\n",
      "4            1    0    0   0  94   0    1   1    1   0\n",
      "5            0    0    0   0   0  81    0   0    5   1\n",
      "6            0    0    0   0   2   2  101   0    0   0\n",
      "7            0    0    2   0   2   0    0  78    1   5\n",
      "8            1    0    1   2   0   1    0   0  103   1\n",
      "9            1    0    0   1   4   0    0   1    2  93\n",
      "\n",
      "Experiment 5:\n",
      "\n",
      "The Bayes classifier had an accuracy of 94.5% on the test data.\n",
      "Confusion Matrix:\n",
      "\n",
      "Predicted    0    1    2   3   4   5    6   7   8   9\n",
      "Actual                                               \n",
      "0          102    0    0   0   0   1    1   0   0   0\n",
      "1            0  106    2   0   0   0    0   1   7   0\n",
      "2            0    0  102   0   1   0    0   0   0   0\n",
      "3            0    0    1  83   0   0    0   0   1   1\n",
      "4            0    0    2   0  98   0    0   0   0   0\n",
      "5            0    0    0   4   0  88    0   0   0   1\n",
      "6            1    0    0   0   0   2  109   0   2   0\n",
      "7            0    0    2   0   2   1    0  93   2   7\n",
      "8            0    0    0   2   0   0    0   0  83   1\n",
      "9            1    0    0   3   2   0    0   2   2  81\n",
      "\n",
      "The average accuracy among the experiments was 94.88%\n"
     ]
    }
   ],
   "source": [
    "norm_numbers_data = pd.concat([num_features_labels, norm_num_features], axis=1)\n",
    "print(\"5-fold validation with the Bayes classifier\\n\")\n",
    "bayes.bayes_classifier_k_fold(norm_numbers_data, 5, [i for i in range(10)], \"label\")"
   ]
  },
  {
   "cell_type": "code",
   "execution_count": 51,
   "id": "704d5038-da22-4822-8322-0d1cd644cb4e",
   "metadata": {
    "colab": {
     "base_uri": "https://localhost:8080/"
    },
    "id": "704d5038-da22-4822-8322-0d1cd644cb4e",
    "outputId": "f5cf2d4f-92dc-4c01-c7c0-e90e0983eea0"
   },
   "outputs": [
    {
     "name": "stdout",
     "output_type": "stream",
     "text": [
      "5-fold validation with parzen window approach\n",
      "\n",
      "Experiment 1 accuracy: 93.2%\n",
      "Confusion Matrix:\n",
      "\n",
      "Predicted    0    1   2   3   4   5   6    7   8   9\n",
      "Actual                                              \n",
      "0          103    0   0   0   0   0   2    0   0   1\n",
      "1            0  107   0   0   0   0   0    0   0   1\n",
      "2            1    1  94   0   0   0   0    0   0   0\n",
      "3            0    1   2  89   0   0   0    1   2   0\n",
      "4            0    1   0   0  95   0   1    2   0  10\n",
      "5            1    2   0   3   1  85   2    1   1   3\n",
      "6            2    0   0   0   0   0  90    0   0   0\n",
      "7            0    1   0   0   0   1   0  102   0   1\n",
      "8            0    4   1   1   0   2   0    0  75   3\n",
      "9            0    1   2   1   5   0   0    3   0  92\n",
      "\n",
      "Experiment 2 accuracy: 93.4%\n",
      "Confusion Matrix:\n",
      "\n",
      "Predicted   0    1   2   3   4   5   6   7   8   9\n",
      "Actual                                            \n",
      "0          98    0   0   0   0   2   2   0   0   0\n",
      "1           0  133   1   1   0   0   0   2   1   0\n",
      "2           0    4  92   1   1   0   0   5   2   0\n",
      "3           0    0   1  82   1   3   1   1   0   1\n",
      "4           0    0   0   0  77   0   1   0   0   3\n",
      "5           0    0   0   2   0  87   1   1   1   1\n",
      "6           1    0   0   0   0   0  96   0   0   0\n",
      "7           0    2   0   0   0   0   0  85   0   0\n",
      "8           1    2   3   8   0   4   0   1  92   1\n",
      "9           0    0   0   0   2   0   0   1   0  92\n",
      "\n",
      "Experiment 3 accuracy: 92.3%\n",
      "Confusion Matrix:\n",
      "\n",
      "Predicted    0   1    2   3   4   5    6   7   8   9\n",
      "Actual                                              \n",
      "0          106   0    0   0   0   0    0   0   0   0\n",
      "1            0  98    0   0   0   0    0   0   0   0\n",
      "2            1   7  102   1   0   0    0   1   0   0\n",
      "3            0   1    0  97   0   2    0   1   2   1\n",
      "4            0   0    0   0  90   0    1   0   0   8\n",
      "5            1   0    0   3   0  84    0   0   1   4\n",
      "6            1   0    0   0   0   1  108   0   0   0\n",
      "7            0   3    0   0   1   0    0  81   0   4\n",
      "8            0   0    0   2   3   6    1   0  89   3\n",
      "9            2   2    1   1   3   0    1   7   0  68\n",
      "\n",
      "Experiment 4 accuracy: 92.7%\n",
      "Confusion Matrix:\n",
      "\n",
      "Predicted   0    1   2   3   4   5    6    7   8   9\n",
      "Actual                                              \n",
      "0          81    0   0   1   0   0    1    0   1   2\n",
      "1           0  102   0   0   0   0    0    1   0   0\n",
      "2           2    1  99   1   0   0    1    4   2   2\n",
      "3           1    0   3  87   0   1    0    0   0   0\n",
      "4           0    3   0   0  91   0    0    0   0   6\n",
      "5           0    0   0   4   0  81    2    0   2   3\n",
      "6           0    0   0   0   0   2  109    0   0   0\n",
      "7           0    0   0   0   2   0    0  106   0   1\n",
      "8           0    3   1   5   0   2    0    2  81   1\n",
      "9           0    0   0   1   2   0    0    7   0  90\n",
      "\n",
      "Experiment 5 accuracy: 92.2%\n",
      "Confusion Matrix:\n",
      "\n",
      "Predicted   0    1    2   3   4   5    6    7   8   9\n",
      "Actual                                               \n",
      "0          92    0    1   0   0   0    1    0   0   0\n",
      "1           0  109    0   0   1   1    0    0   0   0\n",
      "2           1    0  109   2   1   0    0    1   5   1\n",
      "3           0    0    0  94   0   2    0    1   1   1\n",
      "4           0    0    1   0  80   0    0    1   0   6\n",
      "5           0    0    0   2   0  84    2    0   3   1\n",
      "6           1    0    0   0   1   0  103    1   0   0\n",
      "7           0    6    1   0   0   0    0  104   1   4\n",
      "8           0    2    0   8   1   4    1    0  64   0\n",
      "9           2    0    0   0   4   1    0    4   0  83\n",
      "\n",
      "The average accuracy among the experiments was 92.76%\n"
     ]
    }
   ],
   "source": [
    "norm_numbers_data = pd.concat([num_features_labels, norm_num_features], axis=1)\n",
    "print(\"5-fold validation with parzen window approach\\n\")\n",
    "parzens = parzen.parzen_window_k_fold(norm_numbers_data, 5, [i for i in range(10)], \"label\", 0.1)"
   ]
  },
  {
   "cell_type": "code",
   "execution_count": 52,
   "id": "PjcP1GttNknC",
   "metadata": {
    "colab": {
     "base_uri": "https://localhost:8080/"
    },
    "id": "PjcP1GttNknC",
    "outputId": "21a40ada-b5ca-4ec9-8f8a-e85b905a136f"
   },
   "outputs": [
    {
     "name": "stdout",
     "output_type": "stream",
     "text": [
      "5-fold validation with the feed forward neural network approach\n",
      "\n",
      "Experiment 1:\n",
      "100/100 [==============================] - 0s 1ms/step\n",
      "\n",
      "Test accuracy: 91.3%\n",
      "\n",
      "Confusion Matrix:\n",
      "\n",
      "Predicted   0    1   2   3   4   5    6    7   8   9\n",
      "Actual                                              \n",
      "0          90    0   0   0   0   0    1    0   0   0\n",
      "1           0  103   1   0   0   0    1    1   0   1\n",
      "2           1    0  99   0   1   0    1    1   3   1\n",
      "3           0    0   3  89   0   2    0    0   3   1\n",
      "4           2    0   0   1  75   0    2    0   1  11\n",
      "5           2    2   0   3   1  66    4    1   5   5\n",
      "6           0    0   0   0   0   0  101    0   1   1\n",
      "7           0    0   0   0   0   0    0  114   1   5\n",
      "8           0    2   0   3   0   0    2    1  82   3\n",
      "9           0    0   0   2   1   0    0    3   0  94\n",
      "\n",
      "Experiment 2:\n",
      "100/100 [==============================] - 0s 1ms/step\n",
      "\n",
      "Test accuracy: 90.6%\n",
      "\n",
      "Confusion Matrix:\n",
      "\n",
      "Predicted    0    1   2   3   4   5    6   7   8   9\n",
      "Actual                                              \n",
      "0          100    0   0   0   1   0    1   1   0   0\n",
      "1            0  112   0   0   0   0    0   0   1   0\n",
      "2            0    7  90   3   3   1    1   2   2   1\n",
      "3            3    1   1  94   1   3    0   2   1   1\n",
      "4            0    0   0   0  86   0    0   2   0   3\n",
      "5            0    1   1   4   0  79    3   6   3   3\n",
      "6            0    0   0   0   3   1  101   0   0   0\n",
      "7            0    0   0   0   1   0    0  82   0   0\n",
      "8            0    5   1   0   1   3    0   1  79   0\n",
      "9            1    0   0   0   6   1    0   7   0  83\n",
      "\n",
      "Experiment 3:\n",
      "100/100 [==============================] - 0s 2ms/step\n",
      "\n",
      "Test accuracy: 90.9%\n",
      "\n",
      "Confusion Matrix:\n",
      "\n",
      "Predicted   0    1   2   3   4   5    6   7   8   9\n",
      "Actual                                             \n",
      "0          83    0   0   1   0   1    3   0   0   1\n",
      "1           0  111   1   0   0   1    0   0   2   0\n",
      "2           0    1  98   4   1   0    2   1   3   2\n",
      "3           1    0   1  89   0   0    0   0   1   0\n",
      "4           0    0   0   0  86   0    1   0   0   7\n",
      "5           0    1   1  15   0  63    2   0   4   3\n",
      "6           0    0   1   0   0   0  109   0   0   0\n",
      "7           0    0   0   2   0   1    0  94   0   3\n",
      "8           0    0   1   8   0   1    0   1  92   3\n",
      "9           1    1   2   3   1   0    1   0   0  84\n",
      "\n",
      "Experiment 4:\n",
      "100/100 [==============================] - 0s 1ms/step\n",
      "\n",
      "Test accuracy: 89.7%\n",
      "\n",
      "Confusion Matrix:\n",
      "\n",
      "Predicted    0    1    2   3   4   5   6   7   8   9\n",
      "Actual                                              \n",
      "0          100    0    0   3   0   5   1   0   0   1\n",
      "1            0  119    1   2   0   0   0   0   2   0\n",
      "2            0    0  109   0   3   1   0   1   1   2\n",
      "3            0    0    0  86   0   0   0   0   0   1\n",
      "4            0    0    2   0  70   0   0   0   0  11\n",
      "5            0    1    0  10   2  77   1   0   2   2\n",
      "6            1    0    4   0   0   8  83   0   3   0\n",
      "7            1    1    1   2   2   0   0  81   0   7\n",
      "8            0    3    0   7   0   2   0   0  85   3\n",
      "9            0    1    0   1   1   0   0   0   0  87\n",
      "\n",
      "Experiment 5:\n",
      "100/100 [==============================] - 0s 1ms/step\n",
      "\n",
      "Test accuracy: 90.6%\n",
      "\n",
      "Confusion Matrix:\n",
      "\n",
      "Predicted   0   1   2   3    4   5   6   7   8   9\n",
      "Actual                                            \n",
      "0          93   0   0   0    0   1   5   0   1   1\n",
      "1           0  94   1   2    0   1   0   0   1   0\n",
      "2           0   0  89   4    1   0   2   2   1   0\n",
      "3           0   0   2  87    0   1   1   2   2   1\n",
      "4           0   0   0   0  112   0   4   0   0   1\n",
      "5           2   0   1   9    0  76   4   0   2   2\n",
      "6           0   0   0   0    3   0  96   0   0   0\n",
      "7           0   1   5   1    2   0   0  93   2   4\n",
      "8           1   0   0   4    0   3   1   1  76   2\n",
      "9           0   0   0   2    3   0   0   1   1  90\n",
      "\n",
      "The average accuracy among the experiments was 90.62%\n"
     ]
    }
   ],
   "source": [
    "# K-fold with feed forward neural network\n",
    "def NN_k_fold(data: object, num_folds: int, label_name: str, hidden_layers: object, output_activation: str, loss_function: str):\n",
    "    \n",
    "    experiments = k_fold.k_fold_validation(data, num_folds)\n",
    "    accuracy_totals = {}\n",
    "    for experiment in experiments:\n",
    "        # get test data and convert labels to number\n",
    "        test_df = experiments[experiment][\"test\"]\n",
    "        test_labels = np.array(test_df[label_name])\n",
    "        data = test_df.drop([label_name], axis=1)\n",
    "        test_data = np.array(data)\n",
    "        # get training data and convert labels to numbers\n",
    "        train_df = experiments[experiment][\"train\"]\n",
    "        train_labels = np.array(train_df[label_name])\n",
    "        data = train_df.drop([label_name], axis=1)\n",
    "        train_data = np.array(data)\n",
    "        \n",
    "        print(f\"Experiment {experiment}:\")\n",
    "        acc = multilayer_perceptron(train_data, test_data, train_labels, test_labels, hidden_layers, output_activation, loss_function, False)\n",
    "        accuracy_totals[experiment] = acc\n",
    "    print(f\"The average accuracy among the experiments was {round(sum(accuracy_totals.values())/len(accuracy_totals), 2)}%\")\n",
    "\n",
    "print(\"5-fold validation with the feed forward neural network approach\\n\")\n",
    "NN_k_fold(norm_numbers_data, 5, \"label\", [[128, 'relu'], [256, 'relu']], 'softmax', 'categorical_crossentropy')"
   ]
  },
  {
   "cell_type": "markdown",
   "id": "4004dd60-24f8-442d-b505-a300a5f9dd85",
   "metadata": {
    "id": "4004dd60-24f8-442d-b505-a300a5f9dd85"
   },
   "source": [
    "### 4. [5 points total] Provide an analysis of your results:\n",
    "\n",
    "#### (a) [2.5 points] What combination from the above methods gave the best results? The ”best results” is considered the highest classification accuracy for the 10 digits from the 5-fold cross validation results.\n",
    "\n",
    "The three algorithms were comparable in performance when paired with normalization. All three algorithms had over 90% classification accuracy. The Bayes Classifier had slightly higher classification accuracy than the other methods when tested with 5-fold cross-validation, reaching an average accuracy of 95.02%. \n",
    "\n",
    "#### (b) [2.5 points] Was there any part of the combination of the techniques used computationally expensive and why?\n",
    "\n",
    "The parzen window approach was computationally expensive due to the calculations in the gaussian kernel function used to estimate a probability density function. The neural network was also computationally expensive because it contained multiple hidden layers. The first hidden layer contained 256 nodes, and the second hidden layer contained 128 nodes. The Bayes Classifier was the most computationally efficient approach. "
   ]
  },
  {
   "cell_type": "markdown",
   "id": "c5d8264b-fe13-4b0f-9fbd-3bacd25d8795",
   "metadata": {
    "id": "c5d8264b-fe13-4b0f-9fbd-3bacd25d8795"
   },
   "source": [
    "## Problem 3 - Game Theory\n",
    "25 Points Total\n",
    "\n",
    "In the tic-tac-toe code provided add the following method to allow an unbeatable AI in your game.Implement either MiniMax or Alpha Beta to play against and allow the player to choose the skill level.\n",
    "\n",
    "1. Best Move (Provided) - Skill Level Easy\n",
    "2. Utility Based Agent (PA1) - Skill Level Medium\n",
    "3. [25 points] Skill Level Hard - Implemented either the MiniMax or Alpha Beta algorithm from the Game Theory document for the tic-tac-toe game. You will need to alter the provided pseudo code to input the game board."
   ]
  },
  {
   "cell_type": "code",
   "execution_count": null,
   "id": "1956faa2-5310-4040-a54b-fba22c234d1f",
   "metadata": {
    "id": "1956faa2-5310-4040-a54b-fba22c234d1f"
   },
   "outputs": [],
   "source": [
    "#%run -i \"game_theory/TicTacProject_Incomplete.py\""
   ]
  }
 ],
 "metadata": {
  "accelerator": "GPU",
  "colab": {
   "provenance": []
  },
  "gpuClass": "standard",
  "kernelspec": {
   "display_name": "Python 3 (ipykernel)",
   "language": "python",
   "name": "python3"
  },
  "language_info": {
   "codemirror_mode": {
    "name": "ipython",
    "version": 3
   },
   "file_extension": ".py",
   "mimetype": "text/x-python",
   "name": "python",
   "nbconvert_exporter": "python",
   "pygments_lexer": "ipython3",
   "version": "3.10.8"
  }
 },
 "nbformat": 4,
 "nbformat_minor": 5
}
